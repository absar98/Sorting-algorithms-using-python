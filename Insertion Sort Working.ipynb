{
 "cells": [
  {
   "cell_type": "code",
   "execution_count": 5,
   "metadata": {},
   "outputs": [
    {
     "name": "stdout",
     "output_type": "stream",
     "text": [
      "[1, 2, 4, 8]\n"
     ]
    }
   ],
   "source": [
    "def insertionSort(alist):\n",
    "    for i in range(1, len(alist)):\n",
    "        key = alist[i]\n",
    "        pos = i\n",
    "        while pos > 0 and alist[pos - 1] > key:\n",
    "            alist[pos] = alist[pos - 1]\n",
    "            pos = pos - 1\n",
    "        alist[pos] = key\n",
    "    return alist\n",
    "alist=[8,2,4,1]\n",
    "print(insertionSort(alist))"
   ]
  }
 ],
 "metadata": {
  "kernelspec": {
   "display_name": "Python 3",
   "language": "python",
   "name": "python3"
  },
  "language_info": {
   "codemirror_mode": {
    "name": "ipython",
    "version": 3
   },
   "file_extension": ".py",
   "mimetype": "text/x-python",
   "name": "python",
   "nbconvert_exporter": "python",
   "pygments_lexer": "ipython3",
   "version": "3.7.0"
  }
 },
 "nbformat": 4,
 "nbformat_minor": 2
}
