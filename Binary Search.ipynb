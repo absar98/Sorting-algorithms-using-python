{
 "cells": [
  {
   "cell_type": "code",
   "execution_count": 1,
   "metadata": {},
   "outputs": [
    {
     "name": "stdout",
     "output_type": "stream",
     "text": [
      "True\n"
     ]
    }
   ],
   "source": [
    "import time\n",
    "def binarySearch(alist,item):\n",
    "    first=0\n",
    "    last=len(alist)-1\n",
    "    found=False\n",
    "    while first<=last and not found:\n",
    "        midpoint=(first+last)//2\n",
    "        if alist[midpoint] == item:\n",
    "            found=True\n",
    "        else:\n",
    "            if item < alist[midpoint]:\n",
    "                last=midpoint-1\n",
    "            else:\n",
    "                first=midpoint+1\n",
    "    return found\n",
    "r=list(range(1,9))\n",
    "item=5\n",
    "p=binarySearch(r,item)\n",
    "print(p)\n",
    "        "
   ]
  }
 ],
 "metadata": {
  "kernelspec": {
   "display_name": "Python 3",
   "language": "python",
   "name": "python3"
  },
  "language_info": {
   "codemirror_mode": {
    "name": "ipython",
    "version": 3
   },
   "file_extension": ".py",
   "mimetype": "text/x-python",
   "name": "python",
   "nbconvert_exporter": "python",
   "pygments_lexer": "ipython3",
   "version": "3.7.0"
  }
 },
 "nbformat": 4,
 "nbformat_minor": 2
}
